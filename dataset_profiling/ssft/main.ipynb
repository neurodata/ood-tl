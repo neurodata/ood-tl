{
 "cells": [
  {
   "cell_type": "markdown",
   "metadata": {},
   "source": [
    "### Initialize Jupyter Notebook and assign GPU"
   ]
  },
  {
   "cell_type": "code",
   "execution_count": 171,
   "metadata": {},
   "outputs": [
    {
     "name": "stdout",
     "output_type": "stream",
     "text": [
      "The autoreload extension is already loaded. To reload it, use:\n",
      "  %reload_ext autoreload\n"
     ]
    }
   ],
   "source": [
    "%load_ext autoreload\n",
    "%autoreload 2\n",
    "\n",
    "import os\n",
    "os.environ[\"CUDA_DEVICE_ORDER\"]=\"PCI_BUS_ID\"   \n",
    "os.environ[\"CUDA_VISIBLE_DEVICES\"]=\"1\""
   ]
  },
  {
   "cell_type": "markdown",
   "metadata": {},
   "source": [
    "### Load utility functions"
   ]
  },
  {
   "cell_type": "code",
   "execution_count": 172,
   "metadata": {},
   "outputs": [],
   "source": [
    "from utils import *\n",
    "from models import *\n",
    "from dataloader import *\n",
    "from torch.optim import SGD"
   ]
  },
  {
   "cell_type": "code",
   "execution_count": 173,
   "metadata": {},
   "outputs": [],
   "source": [
    "import sys\n",
    "sys.path.insert(1, '/cis/home/adesilva/ashwin/research/ood-tl')\n",
    "\n",
    "import omegaconf\n",
    "from imshowtools import imshow\n",
    "from datahandlers.mnist import RotatedMNISTHandler\n",
    "from datahandlers.pacs import PACSHandler\n",
    "from net.wideresnet import WideResNetSingleHeadNet\n",
    "from PIL import Image"
   ]
  },
  {
   "cell_type": "markdown",
   "metadata": {},
   "source": [
    "### Set Experiment Configs"
   ]
  },
  {
   "cell_type": "code",
   "execution_count": 174,
   "metadata": {},
   "outputs": [],
   "source": [
    "#The name of the first and second split datasets. Keep these same\n",
    "dataset = \"pacs\"\n",
    "\n",
    "#Training parameters for first and second split training\n",
    "weight_decay = 1e-5\n",
    "peak_lr_pre = 0.1\n",
    "peak_lr_ft = 0.1\n",
    "batch_size = 32\n",
    "\n",
    "#Label Noise Ratio in first and second split\n",
    "label_noise_ratio_pre = 0.0\n",
    "label_noise_ratio_ft = 0.0\n",
    "\n",
    "#Model type and learning schedule\n",
    "model_type = \"resnet9\" \n",
    "schedule = \"cosine\" \n",
    "seed = 0\n",
    "\n",
    "#Extra Parameters, not needed\n",
    "minority_1 = 0\n",
    "minority_2 = 0\n",
    "\n",
    "all_args = {\"dataset1\":None, \"dataset2\":None, \"wd\":weight_decay, \"lr1\":peak_lr_pre, \"lr2\":peak_lr_ft, \n",
    "            \"noise_1\":label_noise_ratio_pre, \"noise_2\":label_noise_ratio_ft, \"model\":model_type, \"schedule\":schedule,\n",
    "            \"minority_1\":minority_1, \"minority_2\":minority_2, \"seed\":seed, \"batch_size\":batch_size, \"log_factor\":0,\"seed_superclass\":0}"
   ]
  },
  {
   "cell_type": "code",
   "execution_count": 175,
   "metadata": {},
   "outputs": [],
   "source": [
    "def set_seed(seed=0):\n",
    "    \"\"\"\n",
    "    Don't set true seed to be nearby values. Doesn't give best randomness\n",
    "    \"\"\"\n",
    "    rng = np.random.default_rng(seed)\n",
    "    true_seed = int(rng.integers(2**30))\n",
    "\n",
    "    random.seed(true_seed)\n",
    "    np.random.seed(true_seed)\n",
    "    torch.backends.cudnn.deterministic = True\n",
    "    torch.backends.cudnn.benchmark = False\n",
    "    torch.manual_seed(true_seed)\n",
    "    torch.cuda.manual_seed_all(true_seed)"
   ]
  },
  {
   "cell_type": "code",
   "execution_count": 176,
   "metadata": {},
   "outputs": [],
   "source": [
    "set_seed(1996)"
   ]
  },
  {
   "cell_type": "markdown",
   "metadata": {},
   "source": [
    "### Get dataset splits"
   ]
  },
  {
   "cell_type": "code",
   "execution_count": 177,
   "metadata": {},
   "outputs": [],
   "source": [
    "cfg = omegaconf.OmegaConf.load(\"/cis/home/adesilva/ashwin/research/ood-tl/config/conf.yaml\")\n",
    "\n",
    "if dataset == 'rotated_mnist':\n",
    "    # Rotated MNIST\n",
    "    cfg.task.target_env = 0\n",
    "    cfg.task.ood_env = 90\n",
    "    cfg.task.task_map = [[0, 1, 2, 3, 4, 5, 6, 7, 8, 9]]\n",
    "    cfg.task.n = 500\n",
    "    split1_prop = 1\n",
    "    split2_prop = 1\n",
    "    cfg.hp.bs = batch_size\n",
    "    num_classes = len(cfg.task.task_map[0])\n",
    "\n",
    "if dataset == 'pacs':\n",
    "    # PACSs\n",
    "    cfg.task.target_env = 'P'\n",
    "    cfg.task.ood_env = 'S'\n",
    "    cfg.task.task_map = [[0,1,4]]\n",
    "    cfg.task.n = 10\n",
    "    split1_prop = 10\n",
    "    split2_prop = 10\n",
    "    cfg.hp.bs = batch_size\n",
    "\n",
    "num_classes = len(cfg.task.task_map[0])"
   ]
  },
  {
   "cell_type": "code",
   "execution_count": 178,
   "metadata": {},
   "outputs": [],
   "source": [
    "def get_loader(dataset, split_prop, cfg, seed):\n",
    "    cfg.task.m_n = split_prop\n",
    "    if dataset == 'rotated_mnist':\n",
    "        dataHandler = RotatedMNISTHandler(cfg)\n",
    "    if dataset == 'pacs':\n",
    "        dataHandler =PACSHandler(cfg)\n",
    "    dataHandler.sample_data(seed)\n",
    "    return dataHandler.get_data_loader(train=True)"
   ]
  },
  {
   "cell_type": "code",
   "execution_count": 179,
   "metadata": {},
   "outputs": [],
   "source": [
    "seed1 = 1000\n",
    "seed2 = 3000\n",
    "\n",
    "preloader = get_loader(dataset, split1_prop, cfg, seed1)\n",
    "ftloader = get_loader(dataset, split2_prop, cfg, seed2)"
   ]
  },
  {
   "cell_type": "markdown",
   "metadata": {},
   "source": [
    "### Model Initialization"
   ]
  },
  {
   "cell_type": "code",
   "execution_count": 180,
   "metadata": {},
   "outputs": [],
   "source": [
    "loss_fn = torch.nn.CrossEntropyLoss()\n",
    "in_channels = 1 if all_args[\"dataset1\"] == \"mnist\" else 3\n",
    "model = get_model(all_args[\"model\"], in_channels=3)"
   ]
  },
  {
   "cell_type": "markdown",
   "metadata": {},
   "source": [
    "### Model Training"
   ]
  },
  {
   "cell_type": "code",
   "execution_count": 181,
   "metadata": {},
   "outputs": [
    {
     "name": "stdout",
     "output_type": "stream",
     "text": [
      "Epoch: 1 | Eval Loader Accuracy: 51.2121%\n",
      "Epoch: 2 | Eval Loader Accuracy: 41.2121%\n",
      "Epoch: 3 | Eval Loader Accuracy: 41.8182%\n",
      "Epoch: 4 | Eval Loader Accuracy: 50.6061%\n",
      "Epoch: 5 | Eval Loader Accuracy: 58.1818%\n",
      "Epoch: 5 | Accuracy: 54.2424% | Loss: 3.13e-02\n",
      "Epoch: 6 | Eval Loader Accuracy: 56.3636%\n",
      "Epoch: 7 | Eval Loader Accuracy: 59.3939%\n",
      "Epoch: 8 | Eval Loader Accuracy: 64.5455%\n",
      "Epoch: 9 | Eval Loader Accuracy: 56.3636%\n",
      "Epoch: 10 | Eval Loader Accuracy: 60.0000%\n",
      "Epoch: 10 | Accuracy: 62.4242% | Loss: 2.60e-02\n",
      "Epoch: 11 | Eval Loader Accuracy: 72.1212%\n",
      "Epoch: 12 | Eval Loader Accuracy: 77.2727%\n",
      "Epoch: 13 | Eval Loader Accuracy: 77.8788%\n",
      "Epoch: 14 | Eval Loader Accuracy: 84.5455%\n",
      "Epoch: 15 | Eval Loader Accuracy: 86.3636%\n",
      "Epoch: 15 | Accuracy: 77.8788% | Loss: 1.65e-02\n",
      "Epoch: 16 | Eval Loader Accuracy: 81.8182%\n",
      "Epoch: 17 | Eval Loader Accuracy: 86.3636%\n",
      "Epoch: 18 | Eval Loader Accuracy: 76.9697%\n",
      "Epoch: 19 | Eval Loader Accuracy: 88.4848%\n",
      "Epoch: 20 | Eval Loader Accuracy: 90.6061%\n",
      "Epoch: 20 | Accuracy: 83.0303% | Loss: 1.24e-02\n",
      "Epoch: 21 | Eval Loader Accuracy: 95.7576%\n",
      "Epoch: 22 | Eval Loader Accuracy: 97.2727%\n",
      "Epoch: 23 | Eval Loader Accuracy: 97.8788%\n",
      "Epoch: 24 | Eval Loader Accuracy: 97.5758%\n",
      "Epoch: 25 | Eval Loader Accuracy: 97.5758%\n",
      "Epoch: 25 | Accuracy: 96.3636% | Loss: 4.27e-03\n",
      "Epoch: 26 | Eval Loader Accuracy: 99.0909%\n",
      "Epoch: 27 | Eval Loader Accuracy: 96.0606%\n",
      "Epoch: 28 | Eval Loader Accuracy: 83.6364%\n",
      "Epoch: 29 | Eval Loader Accuracy: 97.8788%\n",
      "Epoch: 30 | Eval Loader Accuracy: 99.6970%\n",
      "Epoch: 30 | Accuracy: 98.1818% | Loss: 4.17e-03\n",
      "Epoch: 31 | Eval Loader Accuracy: 97.5758%\n",
      "Epoch: 32 | Eval Loader Accuracy: 100.0000%\n",
      "Epoch: 33 | Eval Loader Accuracy: 99.3939%\n",
      "Epoch: 34 | Eval Loader Accuracy: 100.0000%\n",
      "Epoch: 35 | Eval Loader Accuracy: 100.0000%\n",
      "Epoch: 35 | Accuracy: 100.0000% | Loss: 5.11e-04\n",
      "Epoch: 36 | Eval Loader Accuracy: 100.0000%\n",
      "Epoch: 37 | Eval Loader Accuracy: 100.0000%\n",
      "Epoch: 38 | Eval Loader Accuracy: 100.0000%\n",
      "Epoch: 38 | Accuracy: 100.0000% | Loss: 2.20e-04\n",
      "Epoch: 1 | Eval Loader Accuracy: 87.8788%\n",
      "Epoch: 2 | Eval Loader Accuracy: 75.1515%\n",
      "Epoch: 3 | Eval Loader Accuracy: 77.5758%\n",
      "Epoch: 4 | Eval Loader Accuracy: 84.5455%\n",
      "Epoch: 5 | Eval Loader Accuracy: 90.9091%\n",
      "Epoch: 5 | Accuracy: 90.9091% | Loss: 9.33e-03\n",
      "Epoch: 6 | Eval Loader Accuracy: 83.3333%\n",
      "Epoch: 7 | Eval Loader Accuracy: 88.4848%\n",
      "Epoch: 8 | Eval Loader Accuracy: 88.1818%\n",
      "Epoch: 9 | Eval Loader Accuracy: 89.0909%\n",
      "Epoch: 10 | Eval Loader Accuracy: 88.7879%\n",
      "Epoch: 10 | Accuracy: 100.0000% | Loss: 7.62e-04\n",
      "Epoch: 11 | Eval Loader Accuracy: 90.9091%\n",
      "Epoch: 12 | Eval Loader Accuracy: 90.0000%\n",
      "Epoch: 13 | Eval Loader Accuracy: 90.0000%\n",
      "Epoch: 13 | Accuracy: 100.0000% | Loss: 2.57e-04\n"
     ]
    }
   ],
   "source": [
    "#Stage 1 Training\n",
    "optimizer = SGD(model.parameters(), lr=0.1, momentum=0.9, weight_decay=5e-4)\n",
    "scheduler, EPOCHS = get_scheduler_epochs(all_args[\"schedule\"], optimizer, preloader)\n",
    "\n",
    "ret_pre = train(model, preloader, optimizer, scheduler, loss_fn, EPOCHS = EPOCHS,eval_every = True, eval_loader= preloader)\n",
    "\n",
    "# torch.save(model.state_dict(), f\"models/{all_args['dataset1']}/stage_1.pt\")\n",
    "\n",
    "#Stage 2 Training\n",
    "optimizer = SGD(model.parameters(), lr=0.1, momentum=0.9, weight_decay=5e-4)\n",
    "scheduler, EPOCHS = get_scheduler_epochs(all_args[\"schedule\"], optimizer, ftloader)\n",
    "\n",
    "\n",
    "ret_ft = train(model, ftloader, optimizer, scheduler, loss_fn, EPOCHS = EPOCHS, eval_every = True, eval_loader= preloader)"
   ]
  },
  {
   "cell_type": "code",
   "execution_count": 182,
   "metadata": {},
   "outputs": [],
   "source": [
    "# torch.save(model.state_dict(), f\"models/{all_args['dataset1']}/stage_2.pt\")"
   ]
  },
  {
   "cell_type": "code",
   "execution_count": 183,
   "metadata": {},
   "outputs": [
    {
     "data": {
      "image/png": "[encoded data removed]",
      "text/plain": [
       "<Figure size 504x504 with 1 Axes>"
      ]
     },
     "metadata": {
      "needs_background": "light"
     },
     "output_type": "display_data"
    }
   ],
   "source": [
    "task_ids = np.array(preloader.dataset.targets)[:, 0]\n",
    "\n",
    "masks_pre = ret_pre[\"acc_mask\"]\n",
    "masks_ft = ret_ft[\"acc_mask\"]\n",
    "# noise_mask = pre_dict[\"noise_mask\"]\n",
    "\n",
    "learn_epochs = get_first_epoch_where_we_learn_forever(masks_pre)\n",
    "forget_epochs = get_first_epoch_where_we_forget_forever(masks_ft)\n",
    "learn = learn_epochs + np.random.uniform(-0.5, 0.5, size = learn_epochs.shape)\n",
    "forget = forget_epochs \n",
    "fg = forget_epochs.max()\n",
    "forget[forget_epochs!=fg] = forget[forget_epochs!=fg] + np.random.uniform(-0.4, 0.4, size = forget_epochs[forget_epochs!=fg].shape)\n",
    "\n",
    "fig, ax = plt.subplots(figsize=(7, 7))\n",
    "\n",
    "fontsize = 20\n",
    "labelsize = 18\n",
    "lw = 4\n",
    "markersize = 8\n",
    "\n",
    "ax.set_xlabel(\"Learning Time\", fontsize=labelsize)\n",
    "ax.set_ylabel(\"Second Split Forgetting Time\", fontsize=labelsize)\n",
    "\n",
    "ax.tick_params(axis='x', labelsize=labelsize)\n",
    "ax.tick_params(axis='y', labelsize=labelsize)\n",
    "\n",
    "ax.axhline(y=fg-0.5, color='r', linestyle='--', lw=lw)\n",
    "\n",
    "ax.scatter(learn[task_ids == 0], forget[task_ids == 0], s= markersize, c = \"b\")\n",
    "ax.scatter(learn[task_ids == 1], forget[task_ids == 1], s= markersize, c = \"r\")\n",
    "\n",
    "plt.show()"
   ]
  },
  {
   "cell_type": "code",
   "execution_count": 184,
   "metadata": {},
   "outputs": [],
   "source": [
    "import matplotlib\n",
    "import numpy as np\n",
    "\n",
    "matplotlib.rcParams['pdf.fonttype'] = 42\n",
    "matplotlib.rcParams['ps.fonttype'] = 42\n",
    "matplotlib.use('svg')\n",
    "matplotlib.rcParams['font.size'] = 14\n",
    "matplotlib.rcParams['font.family'] = \"serif\"\n",
    "matplotlib.rcParams['font.sans-serif'] = \"Times New Roman\""
   ]
  },
  {
   "cell_type": "code",
   "execution_count": 186,
   "metadata": {},
   "outputs": [
    {
     "data": {
      "image/png": "[encoded data removed]",
      "text/plain": [
       "<Figure size 576x576 with 3 Axes>"
      ]
     },
     "metadata": {
      "needs_background": "light"
     },
     "output_type": "display_data"
    }
   ],
   "source": [
    "import matplotlib.gridspec as gridspec\n",
    "\n",
    "x, y  = learn, forget\n",
    "fig = plt.figure(figsize=(8,8))\n",
    "gs = gridspec.GridSpec(5, 5)\n",
    "ax_main = plt.subplot(gs[1:, :4])\n",
    "ax_xDist = plt.subplot(gs[0, :4])#,sharex=ax_main)\n",
    "ax_yDist = plt.subplot(gs[1:, 4])#,sharey=ax_main)\n",
    "\n",
    "ax_main.scatter(x[task_ids==0], y[task_ids==0], marker='.',c='tab:blue', s=50)\n",
    "ax_main.scatter(x[task_ids==1], y[task_ids==1], marker='.',c='tab:red', s=50)\n",
    "ax_main.set(xlabel=\"Learning Time\", ylabel=\"Second Split Forgetting Time\")\n",
    "ax_main.axhline(y=fg-0.5, color='tab:red', linestyle='--', c = 'tab:red')\n",
    "\n",
    "ax_xDist.hist(x[task_ids==0],bins=61,align='mid', fill=False, ec=\"b\", histtype='step', density=True)\n",
    "ax_xDist.hist(x[task_ids==1],bins=61,align='mid', fill=False, ec=\"r\", histtype='step', density=True)\n",
    "ax_xDist.set(ylabel='Density')\n",
    "\n",
    "ax_yDist.hist(y[task_ids==0], bins=61, orientation='horizontal',align='mid', fill=False, ec=\"b\", histtype='step', density=True)\n",
    "ax_yDist.hist(y[task_ids==1], bins=61, orientation='horizontal',align='mid', fill=False, ec=\"r\", histtype='step', density=True)\n",
    "ax_yDist.set(xlabel='Density')\n",
    "\n",
    "ax_yDist.set_yticklabels([])\n",
    "ax_xDist.set_xticklabels([])\n",
    "\n",
    "fig.suptitle(\"Split 1: m/n = {}, n = {}, \\n Split 2: m/n = {}, n = {}\".format(split1_prop, cfg.task.n, split2_prop, cfg.task.n))\n",
    "\n",
    "plt.show()"
   ]
  },
  {
   "attachments": {},
   "cell_type": "markdown",
   "metadata": {},
   "source": [
    "### Visualize"
   ]
  },
  {
   "cell_type": "code",
   "execution_count": null,
   "metadata": {},
   "outputs": [],
   "source": [
    "# PACS\n",
    "idx = (learn_epochs > 12)\n",
    "im_array = []\n",
    "path_list = preloader.dataset.data[idx][:500]\n",
    "for path in path_list:\n",
    "    im = np.asarray(Image.open(path[0]))\n",
    "    im_array.append(im)\n",
    "im_array = np.array(im_array)"
   ]
  },
  {
   "cell_type": "code",
   "execution_count": null,
   "metadata": {},
   "outputs": [],
   "source": [
    "# rotated MNIST\n",
    "idx = (forget_epochs < 14)\n",
    "imshow(*preloader.dataset.data[idx][:25])"
   ]
  },
  {
   "cell_type": "code",
   "execution_count": null,
   "metadata": {},
   "outputs": [
    {
     "name": "stdout",
     "output_type": "stream",
     "text": [
      "Please provide at least one image to display! Try again\n"
     ]
    }
   ],
   "source": [
    "idx = (learn_epochs > 20)\n",
    "imshow(*preloader.dataset.data[idx][:25])"
   ]
  }
 ],
 "metadata": {
  "kernelspec": {
   "display_name": "std_dl",
   "language": "python",
   "name": "python3"
  },
  "language_info": {
   "codemirror_mode": {
    "name": "ipython",
    "version": 3
   },
   "file_extension": ".py",
   "mimetype": "text/x-python",
   "name": "python",
   "nbconvert_exporter": "python",
   "pygments_lexer": "ipython3",
   "version": "3.8.12"
  },
  "orig_nbformat": 4,
  "vscode": {
   "interpreter": {
    "hash": "26df7bdc50ccc81b1ececf799afd66b0e37df7ce580a7a9c49fc529854bdfb80"
   }
  }
 },
 "nbformat": 4,
 "nbformat_minor": 2
}
