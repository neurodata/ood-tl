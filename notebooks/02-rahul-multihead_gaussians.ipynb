{
 "cells": [
  {
   "cell_type": "code",
   "execution_count": 1,
   "id": "1d512e26",
   "metadata": {},
   "outputs": [],
   "source": [
    "import torch\n",
    "import torch.nn as nn\n",
    "import torch.optim\n",
    "\n",
    "from torch.utils.data import TensorDataset, DataLoader"
   ]
  },
  {
   "cell_type": "code",
   "execution_count": 107,
   "id": "5feb370b",
   "metadata": {},
   "outputs": [],
   "source": [
    "mu_1 = np.array([-1, 0])\n",
    "mu_2 = np.array([1, 0])\n",
    "\n",
    "cov =np.array([[1.0, 0.0],\n",
    "               [0.0, 10.0]])  ## One dimension has way more variance than the other. "
   ]
  },
  {
   "cell_type": "code",
   "execution_count": 108,
   "id": "872bf809",
   "metadata": {},
   "outputs": [],
   "source": [
    "class mini_multihead(nn.Module):\n",
    "    def __init__(self):\n",
    "        super().__init__()\n",
    "        self.fc1 = nn.Linear(2, 100, bias=False)\n",
    "        self.fc11 = nn.Linear(100, 1, bias=False)\n",
    "\n",
    "        self.fc2 = nn.Linear(1, 2, bias=True)\n",
    "        self.fc2.weight.requires_grad = False\n",
    "        self.fc2.weight.data.fill_(1)\n",
    "        self.fc2.bias.data.fill_(0)\n",
    "        self.sigmoid = torch.nn.Sigmoid()\n",
    "        \n",
    "    def forward(self, x, tasks):\n",
    "        x = self.fc1(x)\n",
    "        x = self.fc11(x)\n",
    "        \n",
    "        logits = self.fc2(x)\n",
    "        logits = logits.reshape(-1, 2, 1)\n",
    "        # Select only relevant logits based on task\n",
    "        logits = logits[torch.arange(logits.size(0)), list(tasks), 0]\n",
    "        logits = self.sigmoid(logits)\n",
    "        \n",
    "        return logits"
   ]
  },
  {
   "cell_type": "code",
   "execution_count": 173,
   "id": "68dd9d2d",
   "metadata": {},
   "outputs": [],
   "source": [
    "def get_data(n=4, m=10, delta=(1, 0), rot=False):\n",
    "    # make sure m, n are even\n",
    "    \n",
    "    delta = np.array(delta)\n",
    "    n = n//2\n",
    "    m = m//2 \n",
    "\n",
    "    # Target data\n",
    "    xt_1 = np.random.multivariate_normal(mu_1, cov, size=n)\n",
    "    xt_2 = np.random.multivariate_normal(mu_2, cov, size=n)\n",
    "    xt = np.concatenate([xt_1, xt_2])\n",
    "    yt = np.concatenate([np.repeat(0, n), np.repeat(1, n)])\n",
    "\n",
    "    # OOD data    \n",
    "    if rot:\n",
    "        xo_1 = np.random.multivariate_normal(mu_1 @ delta, cov, size=m)\n",
    "        xo_2 = np.random.multivariate_normal(mu_2 @ delta, cov, size=m)\n",
    "    else:\n",
    "        xo_1 = np.random.multivariate_normal(mu_1 + delta, cov, size=m)\n",
    "        xo_2 = np.random.multivariate_normal(mu_2 + delta, cov, size=m)\n",
    "    xo = np.concatenate([xo_1, xo_2])\n",
    "    yo = np.concatenate([np.repeat(0, m), np.repeat(1, m)])\n",
    "\n",
    "    return xt, yt, xo, yo\n",
    "\n",
    "\n",
    "def get_dataloader(n=4, m=10, delta=(1, 0), rot=False):\n",
    "    # make sure m, n are even\n",
    "    xt, yt, xo, yo = get_data(n, m, delta, rot)\n",
    "\n",
    "    xdat = np.concatenate([xt, xo])\n",
    "    ydat = np.concatenate([yt, yo])\n",
    "    tdat = np.concatenate([np.repeat(0, n), np.repeat(1, m)])\n",
    "    ydat = np.array([tdat, ydat]).T\n",
    "    \n",
    "    xdat = torch.Tensor(xdat)\n",
    "    ydat = torch.Tensor(ydat)\n",
    "\n",
    "    dataset_t = TensorDataset(xdat, ydat)\n",
    "    dataloader_t = DataLoader(dataset_t, batch_size=16, shuffle=True)\n",
    "\n",
    "    return dataloader_t"
   ]
  },
  {
   "cell_type": "code",
   "execution_count": 129,
   "id": "434a166b",
   "metadata": {},
   "outputs": [],
   "source": [
    "def evaluate(ep, net, testloader):\n",
    "    size = len(testloader.dataset)\n",
    "    correct = 0.0\n",
    "    with torch.inference_mode():\n",
    "        for dat, target in testloader:\n",
    "            task, lab = target[:, 0], target[:, 1]\n",
    "            pred = net(dat, task)\n",
    "            pred = (pred > 0.5)\n",
    "            correct += (pred == lab).type(torch.float).sum().item()\n",
    "\n",
    "    correct /= size\n",
    "    return 1 - correct"
   ]
  },
  {
   "cell_type": "code",
   "execution_count": 130,
   "id": "f6ecc112",
   "metadata": {},
   "outputs": [],
   "source": [
    "testloader = get_dataloader(n=50000, m=0)"
   ]
  },
  {
   "cell_type": "code",
   "execution_count": 169,
   "id": "741a9f30",
   "metadata": {},
   "outputs": [],
   "source": [
    "def train_net(n, m, d, rot=False):\n",
    "    vals = []\n",
    "    criterion = nn.BCELoss()\n",
    "    for rep in range(10):\n",
    "        trainloader = get_dataloader(n=n, m=m, delta=d, rot=rot)\n",
    "        net = mini_multihead()\n",
    "        optimizer = torch.optim.SGD(net.parameters(), lr=0.05)\n",
    "        for ep in range(100):\n",
    "            for dat, target in trainloader:\n",
    "                task, lab = target[:, 0], target[:, 1]\n",
    "\n",
    "                optimizer.zero_grad()\n",
    "                out = net(dat, task)\n",
    "                loss = criterion(out, lab)\n",
    "                loss.backward()\n",
    "                optimizer.step()\n",
    "\n",
    "        vals.append(evaluate(ep+1, net, testloader))\n",
    "    return np.mean(vals), np.std(vals), net"
   ]
  },
  {
   "cell_type": "code",
   "execution_count": 161,
   "id": "ef97cf98",
   "metadata": {
    "scrolled": false
   },
   "outputs": [
    {
     "name": "stdout",
     "output_type": "stream",
     "text": [
      "Computing for delta=0.000000\n",
      "Computing for m=0\n",
      "Computing for m=40\n",
      "Computing for m=80\n",
      "Computing for m=120\n",
      "Computing for m=160\n",
      "Computing for m=200\n",
      "Computing for m=240\n",
      "Computing for m=280\n",
      "Computing for m=320\n",
      "Computing for m=360\n",
      "Computing for m=400\n",
      "Computing for delta=1.000000\n",
      "Computing for m=0\n",
      "Computing for m=40\n",
      "Computing for m=80\n",
      "Computing for m=120\n",
      "Computing for m=160\n",
      "Computing for m=200\n",
      "Computing for m=240\n",
      "Computing for m=280\n",
      "Computing for m=320\n",
      "Computing for m=360\n",
      "Computing for m=400\n",
      "Computing for delta=2.500000\n",
      "Computing for m=0\n",
      "Computing for m=40\n",
      "Computing for m=80\n",
      "Computing for m=120\n",
      "Computing for m=160\n",
      "Computing for m=200\n",
      "Computing for m=240\n",
      "Computing for m=280\n",
      "Computing for m=320\n",
      "Computing for m=360\n",
      "Computing for m=400\n",
      "Computing for delta=5.000000\n",
      "Computing for m=0\n",
      "Computing for m=40\n",
      "Computing for m=80\n",
      "Computing for m=120\n",
      "Computing for m=160\n",
      "Computing for m=200\n",
      "Computing for m=240\n",
      "Computing for m=280\n",
      "Computing for m=320\n",
      "Computing for m=360\n",
      "Computing for m=400\n"
     ]
    }
   ],
   "source": [
    "preds = {}\n",
    "nval = 2\n",
    "mval = list(range(0, 401, 40))\n",
    "dval = [0.0, 1.0, 2.5, 5.0]\n",
    "\n",
    "for d in dval:\n",
    "    print(\"Computing for delta=%f\" % d)\n",
    "    delt = np.array((d, 0.0))\n",
    "    preds[d] = []\n",
    "    for m in mval:\n",
    "        print(\"Computing for m=%d\" % m)\n",
    "        met = train_net(nval, m, delt)\n",
    "        preds[d].append((m, met[0], met[1]))"
   ]
  },
  {
   "cell_type": "code",
   "execution_count": 162,
   "id": "f5ea15d6",
   "metadata": {},
   "outputs": [],
   "source": [
    "import matplotlib.pyplot as plt\n",
    "plt.style.use('seaborn-whitegrid')"
   ]
  },
  {
   "cell_type": "code",
   "execution_count": 180,
   "id": "4589de46",
   "metadata": {},
   "outputs": [
    {
     "data": {
      "image/png": "[encoded data removed]",
      "text/plain": [
       "<Figure size 432x288 with 1 Axes>"
      ]
     },
     "metadata": {},
     "output_type": "display_data"
    }
   ],
   "source": [
    "mnorm = [m/nval for m in mval]\n",
    "color_idx = np.linspace(0, 1, len(preds))\n",
    "dlist = sorted(preds.keys())\n",
    "leg = [str(d) for d in dlist]\n",
    "\n",
    "for i, d in enumerate(dlist):\n",
    "    col = plt.cm.RdYlGn_r(color_idx[i])\n",
    "    \n",
    "    vals = preds[d]\n",
    "    vals = np.array(vals)\n",
    "    mean = vals[:, 1]\n",
    "    std = vals[:, 2]\n",
    "    markers, caps, bars = plt.errorbar(mnorm, mean, std, color=col,  capsize=3, capthick=1)\n",
    "    [bar.set_alpha(0.2) for bar in bars]\n",
    "\n",
    "plt.legend(leg, bbox_to_anchor = (1.05, 1.0), title='Delta')\n",
    "plt.savefig(\"../reports/figures/02-rr-multihead_gaussian_translation.pdf\", bbox_inches=\"tight\")\n",
    "plt.show()"
   ]
  },
  {
   "cell_type": "code",
   "execution_count": 158,
   "id": "457e7b55",
   "metadata": {
    "scrolled": true
   },
   "outputs": [
    {
     "name": "stdout",
     "output_type": "stream",
     "text": [
      "Computing for delta=0.000000\n",
      "Computing for m=0\n",
      "Computing for m=100\n",
      "Computing for m=200\n",
      "Computing for m=300\n",
      "Computing for m=400\n",
      "Computing for m=500\n",
      "Computing for m=600\n",
      "Computing for m=700\n",
      "Computing for m=800\n",
      "Computing for m=900\n",
      "Computing for m=1000\n",
      "Computing for delta=1.000000\n",
      "Computing for m=0\n",
      "Computing for m=100\n",
      "Computing for m=200\n",
      "Computing for m=300\n",
      "Computing for m=400\n",
      "Computing for m=500\n",
      "Computing for m=600\n",
      "Computing for m=700\n",
      "Computing for m=800\n",
      "Computing for m=900\n",
      "Computing for m=1000\n",
      "Computing for delta=5.000000\n",
      "Computing for m=0\n",
      "Computing for m=100\n",
      "Computing for m=200\n",
      "Computing for m=300\n",
      "Computing for m=400\n",
      "Computing for m=500\n",
      "Computing for m=600\n",
      "Computing for m=700\n",
      "Computing for m=800\n",
      "Computing for m=900\n",
      "Computing for m=1000\n"
     ]
    }
   ],
   "source": [
    "preds = {}\n",
    "nval = 8\n",
    "mval = list(range(0, 1001, 100))\n",
    "dval = [0.0, 1.0, 5.0]\n",
    "\n",
    "for d in dval:\n",
    "    print(\"Computing for delta=%f\" % d)\n",
    "    delt = np.array((d, 0.0))\n",
    "    preds[d] = []\n",
    "    for m in mval:\n",
    "        print(\"Computing for m=%d\" % m)\n",
    "        met = train_net(nval, m, delt)\n",
    "        preds[d].append((m, met[0], met[1]))"
   ]
  },
  {
   "cell_type": "code",
   "execution_count": 159,
   "id": "5c280c49",
   "metadata": {
    "scrolled": true
   },
   "outputs": [
    {
     "data": {
      "image/png": "[encoded data removed]",
      "text/plain": [
       "<Figure size 432x288 with 1 Axes>"
      ]
     },
     "metadata": {},
     "output_type": "display_data"
    }
   ],
   "source": [
    "mnorm = [m/nval for m in mval]\n",
    "color_idx = np.linspace(0, 1, len(preds))\n",
    "dlist = sorted(preds.keys())\n",
    "leg = [str(d) for d in dlist]\n",
    "\n",
    "for i, d in enumerate(dlist):\n",
    "    col = plt.cm.RdYlGn_r(color_idx[i])\n",
    "    \n",
    "    vals = preds[d]\n",
    "    vals = np.array(vals)\n",
    "    mean = vals[:, 1]\n",
    "    std = vals[:, 2]\n",
    "    markers, caps, bars = plt.errorbar(mnorm, mean, std, color=col,  capsize=3, capthick=1)\n",
    "    [bar.set_alpha(0.2) for bar in bars]\n",
    "\n",
    "plt.legend(leg, bbox_to_anchor = (1.05, 1.0), title='Delta')\n",
    "plt.show()"
   ]
  },
  {
   "cell_type": "markdown",
   "id": "3e9f5329",
   "metadata": {},
   "source": [
    "# Multihead with Rotations"
   ]
  },
  {
   "cell_type": "code",
   "execution_count": 176,
   "id": "b5d360cb",
   "metadata": {
    "scrolled": true
   },
   "outputs": [
    {
     "name": "stdout",
     "output_type": "stream",
     "text": [
      "Computing for delta=0.000000\n",
      "Computing for m=0\n",
      "Computing for m=50\n",
      "Computing for m=100\n",
      "Computing for m=150\n",
      "Computing for m=200\n",
      "Computing for m=250\n",
      "Computing for m=300\n",
      "Computing for m=350\n",
      "Computing for m=400\n",
      "Computing for m=450\n",
      "Computing for m=500\n",
      "Computing for delta=10.000000\n",
      "Computing for m=0\n",
      "Computing for m=50\n",
      "Computing for m=100\n",
      "Computing for m=150\n",
      "Computing for m=200\n",
      "Computing for m=250\n",
      "Computing for m=300\n",
      "Computing for m=350\n",
      "Computing for m=400\n",
      "Computing for m=450\n",
      "Computing for m=500\n",
      "Computing for delta=30.000000\n",
      "Computing for m=0\n",
      "Computing for m=50\n",
      "Computing for m=100\n",
      "Computing for m=150\n",
      "Computing for m=200\n",
      "Computing for m=250\n",
      "Computing for m=300\n",
      "Computing for m=350\n",
      "Computing for m=400\n",
      "Computing for m=450\n",
      "Computing for m=500\n",
      "Computing for delta=45.000000\n",
      "Computing for m=0\n",
      "Computing for m=50\n",
      "Computing for m=100\n",
      "Computing for m=150\n",
      "Computing for m=200\n",
      "Computing for m=250\n",
      "Computing for m=300\n",
      "Computing for m=350\n",
      "Computing for m=400\n",
      "Computing for m=450\n",
      "Computing for m=500\n",
      "Computing for delta=90.000000\n",
      "Computing for m=0\n",
      "Computing for m=50\n",
      "Computing for m=100\n",
      "Computing for m=150\n",
      "Computing for m=200\n",
      "Computing for m=250\n",
      "Computing for m=300\n",
      "Computing for m=350\n",
      "Computing for m=400\n",
      "Computing for m=450\n",
      "Computing for m=500\n"
     ]
    }
   ],
   "source": [
    "preds_rot = {}\n",
    "nval = 8\n",
    "mval = list(range(0, 501, 50))\n",
    "dval = [0, 10, 30, 45, 90]\n",
    "\n",
    "for d in dval:\n",
    "    print(\"Computing for delta=%f\" % d)\n",
    "    rad = (d / 180) * np.pi\n",
    "    delt = np.array([[np.cos(rad), np.sin(rad)],\n",
    "                     [-np.sin(rad), np.cos(rad)]])\n",
    "    preds_rot[d] = []\n",
    "    for m in mval:\n",
    "        print(\"Computing for m=%d\" % m)\n",
    "        met = train_net(nval, m, delt, rot=True)\n",
    "        preds_rot[d].append((m, met[0], met[1]))"
   ]
  },
  {
   "cell_type": "code",
   "execution_count": 178,
   "id": "5e72e1d5",
   "metadata": {},
   "outputs": [
    {
     "data": {
      "image/png": "[encoded data removed]",
      "text/plain": [
       "<Figure size 432x288 with 1 Axes>"
      ]
     },
     "metadata": {},
     "output_type": "display_data"
    }
   ],
   "source": [
    "mnorm = mval\n",
    "color_idx = np.linspace(0, 1, len(preds_rot))\n",
    "dlist = sorted(preds_rot.keys())\n",
    "leg = [str(d) for d in dlist]\n",
    "\n",
    "for i, d in enumerate(dlist):\n",
    "    col = plt.cm.RdYlGn_r(color_idx[i])\n",
    "    \n",
    "    vals = preds_rot[d]\n",
    "    vals = np.array(vals)\n",
    "    mean = vals[:, 1]\n",
    "    std = vals[:, 2]\n",
    "    markers, caps, bars = plt.errorbar(mnorm, mean, std, color=col,  capsize=3, capthick=1)\n",
    "    [bar.set_alpha(0.2) for bar in bars]\n",
    "\n",
    "plt.legend(leg, bbox_to_anchor = (1.05, 1.0), title='Delta')\n",
    "plt.savefig(\"../reports/figures/02-rr-multihead_gaussian_rotations.pdf\", bbox_inches=\"tight\")\n",
    "plt.show()"
   ]
  }
 ],
 "metadata": {
  "kernelspec": {
   "display_name": "Python 3.6.10 64-bit ('torch': conda)",
   "language": "python",
   "name": "python361064bittorchconda81ea06b1f2a545b8a1c6a10aaab8eec4"
  },
  "language_info": {
   "codemirror_mode": {
    "name": "ipython",
    "version": 3
   },
   "file_extension": ".py",
   "mimetype": "text/x-python",
   "name": "python",
   "nbconvert_exporter": "python",
   "pygments_lexer": "ipython3",
   "version": "3.6.10"
  }
 },
 "nbformat": 4,
 "nbformat_minor": 5
}
