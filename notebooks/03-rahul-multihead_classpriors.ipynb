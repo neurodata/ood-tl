{
 "cells": [
  {
   "cell_type": "code",
   "execution_count": 3,
   "id": "8790cf6e",
   "metadata": {},
   "outputs": [],
   "source": [
    "from scipy.stats import norm\n",
    "import numpy as np\n",
    "import matplotlib.pyplot as plt\n",
    "import seaborn as sns\n",
    "from cycler import cycler\n",
    "\n",
    "from scipy.optimize import minimize_scalar, brute\n",
    "import scipy.optimize as optimize\n",
    "\n",
    "%matplotlib inline"
   ]
  },
  {
   "cell_type": "code",
   "execution_count": 4,
   "id": "d4b4d14a",
   "metadata": {},
   "outputs": [],
   "source": [
    "plt.style.use('seaborn-whitegrid')\n",
    "img_path = \"../reports/figures/\""
   ]
  },
  {
   "cell_type": "code",
   "execution_count": 38,
   "id": "2192f384",
   "metadata": {},
   "outputs": [],
   "source": [
    "# Task of interest\n",
    "MU = 1.0\n",
    "SIGMA = 1.0  # All formulas assume SIGMA=1.0, Do not change this value\n",
    "P = 0.8\n",
    "\n",
    "# The bias toward the class +MU if p > 0.5"
   ]
  },
  {
   "cell_type": "code",
   "execution_count": 47,
   "id": "d17ea3a0",
   "metadata": {},
   "outputs": [],
   "source": [
    "def get_cdf(a, mean, std):\n",
    "    a_norm = (a - mean) / std\n",
    "    return norm.cdf(a_norm)\n",
    "\n",
    "def err_h(h):\n",
    "    # This is the error of a single hypothesis 'h'\n",
    "    err = P * get_cdf(h, MU, SIGMA) + (1 - P) * (1 - get_cdf(h, -MU, SIGMA))\n",
    "    err = np.round(err * 100, 4)\n",
    "    return err"
   ]
  },
  {
   "cell_type": "code",
   "execution_count": 49,
   "id": "2776b8b7",
   "metadata": {},
   "outputs": [],
   "source": [
    "def create_dataset(samples, delta):\n",
    "    n_x1 = int(np.round(samples * P))\n",
    "    n_x0 = int(np.round(samples * (1 - P)))\n",
    "    \n",
    "    if n_x1 == 0 and n_x0 == 0:\n",
    "        return 0, 0\n",
    "    if n_x1 == 0 or n_x0 == 0:\n",
    "        raise RuntimeError\n",
    "    \n",
    "    x0 = np.random.normal(-MU + delta, 1, size=n_x0)\n",
    "    x1 = np.random.normal(MU + delta, 1, size=n_x1)\n",
    "    return x0, x1"
   ]
  },
  {
   "cell_type": "code",
   "execution_count": 80,
   "id": "a126a18e",
   "metadata": {},
   "outputs": [
    {
     "name": "stdout",
     "output_type": "stream",
     "text": [
      "Delta=0\n",
      "(15.08185203, 5.539017344430263)\n",
      "(12.615161772999999, 3.3887095263547446)\n",
      "(12.251641391, 1.706029320476962)\n",
      "(12.150795092, 1.415314585681894)\n",
      "(12.112885011, 1.3714273442886538)\n",
      "(12.068108896000002, 1.228269399363373)\n",
      "(12.037610965, 1.1974242228438794)\n",
      "Delta=0.1\n",
      "(15.07662168, 5.479390856810908)\n",
      "(12.598385322000002, 3.2310061862330683)\n",
      "(12.254301185, 1.8017682094074963)\n",
      "(12.154310567000001, 1.4589960765418934)\n",
      "(12.118084498999998, 1.3619844211023924)\n",
      "(12.069992413000001, 1.2396252757855244)\n",
      "(12.034013498, 1.19854134341382)\n",
      "Delta=10\n",
      "(15.105122737, 5.585840629450659)\n",
      "(12.600741729, 3.270634933980066)\n",
      "(12.249365978000002, 1.7197927656736156)\n",
      "(12.151397159, 1.407633022777609)\n",
      "(12.107566084, 1.3175449503324375)\n",
      "(12.068751123999997, 1.2521566142710492)\n",
      "(12.034521975, 1.1820515767918078)\n"
     ]
    }
   ],
   "source": [
    "nrounds = 100000\n",
    "nval = 10\n",
    "mvals = [0, 5, 10, 15, 20, 30, 50]\n",
    "mnorm = [m / nval for m in mvals]\n",
    "dlist = [0, 0.1, 10]\n",
    "all_errs = []\n",
    "\n",
    "for delt in dlist:\n",
    "    merr = []\n",
    "\n",
    "    for m in mvals:\n",
    "        errs = []\n",
    "        for it in range(nrounds):\n",
    "            x_t = create_dataset(nval, 0.0)\n",
    "            x_ood = create_dataset(m, 0.0)\n",
    "\n",
    "            x_0m = 0.5 * (np.mean(x_t[0]) + np.mean(x_ood[0]))\n",
    "            x_1m = 0.5 * (np.mean(x_t[1]) + np.mean(x_ood[1]))\n",
    "\n",
    "            x_mid = 0.5 * (np.mean(x_t[0]) + np.mean(x_t[1]))\n",
    "            x_diff = (x_1m - x_0m)\n",
    "\n",
    "            h = x_mid + (SIGMA**2 * np.log ( (1 - P) / P)) / x_diff\n",
    "            errs.append(err_h(h))\n",
    "        merr.append((np.mean(errs), np.std(errs)))\n",
    "    all_errs.append(merr)\n",
    "\n",
    "    print(\"Delta=\" + str(delt))\n",
    "    for m in merr:\n",
    "        print(m)                       "
   ]
  },
  {
   "cell_type": "code",
   "execution_count": 81,
   "id": "e2a23c8b",
   "metadata": {},
   "outputs": [],
   "source": [
    "def make_loss_plot(errs, fname):\n",
    "    fig = plt.figure(figsize=(5,3))\n",
    "    color_idx = np.linspace(0, 1, len(dlist))\n",
    "    \n",
    "    for i in range(len(dlist)):\n",
    "        col = plt.cm.RdYlGn_r(color_idx[i])\n",
    "        err = np.array(errs[i])[:, 0]\n",
    "        std = np.array(errs[i])[:, 1]\n",
    "        plt.plot(mnorm, err, color=col)\n",
    "        #plt.scatter(mnorm, err, alpha=0.5, s=5, color=col)\n",
    "        #plt.errorbar(mnorm, std, color=col, capsize=4, capthick=1)\n",
    "        markers, caps, bars = plt.errorbar(mnorm, err, std, color=col,  capsize=3, capthick=1)\n",
    "        [bar.set_alpha(0.2) for bar in bars]\n",
    "\n",
    "    plt.legend([str(d) for d in dlist], title='Delta', bbox_to_anchor = (1.05, 1.0))\n",
    "\n",
    "    plt.xlabel(\"m/n, n=\" + str(nval))\n",
    "    plt.ylabel(\"Avg Risk\")\n",
    "\n",
    "    plt.savefig(img_path + fname, bbox_inches=\"tight\")\n",
    "    plt.show()\n",
    "    "
   ]
  },
  {
   "cell_type": "code",
   "execution_count": 82,
   "id": "8e581fef",
   "metadata": {},
   "outputs": [
    {
     "data": {
      "image/png": "[encoded data removed]",
      "text/plain": [
       "<Figure size 360x216 with 1 Axes>"
      ]
     },
     "metadata": {},
     "output_type": "display_data"
    }
   ],
   "source": [
    "make_loss_plot(all_errs, \"03-rr-multihead_class_priors.pdf\")"
   ]
  }
 ],
 "metadata": {
  "kernelspec": {
   "display_name": "Python 3.6.10 64-bit ('torch': conda)",
   "language": "python",
   "name": "python361064bittorchconda81ea06b1f2a545b8a1c6a10aaab8eec4"
  },
  "language_info": {
   "codemirror_mode": {
    "name": "ipython",
    "version": 3
   },
   "file_extension": ".py",
   "mimetype": "text/x-python",
   "name": "python",
   "nbconvert_exporter": "python",
   "pygments_lexer": "ipython3",
   "version": "3.6.10"
  }
 },
 "nbformat": 4,
 "nbformat_minor": 5
}
