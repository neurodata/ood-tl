{
 "cells": [
  {
   "cell_type": "code",
   "execution_count": 10,
   "id": "8790cf6e",
   "metadata": {},
   "outputs": [],
   "source": [
    "from scipy.stats import norm\n",
    "import numpy as np\n",
    "import matplotlib.pyplot as plt\n",
    "import seaborn as sns\n",
    "from cycler import cycler\n",
    "\n",
    "from scipy.optimize import minimize_scalar, brute\n",
    "import scipy.optimize as optimize\n",
    "\n",
    "%matplotlib inline"
   ]
  },
  {
   "cell_type": "code",
   "execution_count": 11,
   "id": "d4b4d14a",
   "metadata": {},
   "outputs": [],
   "source": [
    "plt.style.use('seaborn-whitegrid')\n",
    "img_path = \"../reports/figures/\""
   ]
  },
  {
   "cell_type": "code",
   "execution_count": 12,
   "id": "2192f384",
   "metadata": {},
   "outputs": [],
   "source": [
    "# Task of interest\n",
    "MU = 1.0\n",
    "SIGMA = 1.0  # All formulas assume SIGMA=1.0, Do not change this value\n",
    "P = 0.8\n",
    "\n",
    "# The bias toward the class +MU if p > 0.5"
   ]
  },
  {
   "cell_type": "code",
   "execution_count": 13,
   "id": "d17ea3a0",
   "metadata": {},
   "outputs": [],
   "source": [
    "def get_cdf(a, mean, std):\n",
    "    a_norm = (a - mean) / std\n",
    "    return norm.cdf(a_norm)\n",
    "\n",
    "def err_h(h):\n",
    "    # This is the error of a single hypothesis 'h'\n",
    "    err = P * get_cdf(h, MU, SIGMA) + (1 - P) * (1 - get_cdf(h, -MU, SIGMA))\n",
    "    err = np.round(err * 100, 4)\n",
    "    return err"
   ]
  },
  {
   "cell_type": "code",
   "execution_count": 14,
   "id": "2776b8b7",
   "metadata": {},
   "outputs": [],
   "source": [
    "def create_dataset(samples, delta, mu):\n",
    "    n_x1 = int(np.round(samples * P))\n",
    "    n_x0 = int(np.round(samples * (1 - P)))\n",
    "    \n",
    "    if n_x1 == 0 and n_x0 == 0:\n",
    "        return 0, 0\n",
    "    if n_x1 == 0 or n_x0 == 0:\n",
    "        raise RuntimeError\n",
    "    \n",
    "    x0 = np.random.normal(-mu + delta, SIGMA, size=n_x0)\n",
    "    x1 = np.random.normal(mu + delta, SIGMA, size=n_x1)\n",
    "    return x0, x1"
   ]
  },
  {
   "cell_type": "code",
   "execution_count": 19,
   "id": "a126a18e",
   "metadata": {},
   "outputs": [
    {
     "name": "stdout",
     "output_type": "stream",
     "text": [
      "Delta=0\n",
      "(15.229235799999998, 5.625984659449256)\n",
      "(12.6273227, 3.5426621430634206)\n",
      "(12.271195599999999, 1.4675882947273189)\n",
      "(12.1683133, 1.390199054011011)\n",
      "(12.1151562, 1.2765196573110655)\n",
      "(12.0125397, 1.185863767046582)\n",
      "(12.010066299999998, 1.1764177753818197)\n",
      "Delta=0.1\n",
      "(15.117934499999999, 5.225754961057755)\n",
      "(12.5823439, 3.4596287236729304)\n",
      "(12.305267599999999, 2.5784458746869676)\n",
      "(12.196424899999998, 2.4848217253215554)\n",
      "(12.1281906, 1.3113980533124334)\n",
      "(12.043592, 1.1470333081371262)\n",
      "(12.0772804, 1.1663400596206237)\n",
      "Delta=10\n",
      "(15.060776399999998, 5.265374206740016)\n",
      "(12.705292699999998, 3.5466823100182947)\n",
      "(12.1509899, 1.3985007217402465)\n",
      "(12.1770774, 1.4712520606100232)\n",
      "(12.0531061, 1.3068482999846578)\n",
      "(12.035596600000002, 1.153807077473717)\n",
      "(12.0371649, 1.185502100435925)\n"
     ]
    }
   ],
   "source": [
    "nrounds = 1000\n",
    "nval = 10\n",
    "mvals = [0, 5, 10, 15, 20, 30, 50]\n",
    "mnorm = [m / nval for m in mvals]\n",
    "dlist = [0, 0.1, 10]\n",
    "all_errs = []\n",
    "\n",
    "for delt in dlist:\n",
    "    merr = []\n",
    "\n",
    "    for m in mvals:\n",
    "        errs = []\n",
    "        for it in range(nrounds):\n",
    "            x_t = create_dataset(nval, 0.0, MU)\n",
    "            x_ood = create_dataset(m, delt, MU)\n",
    "\n",
    "            x_0m = 0.5 * (np.mean(x_t[0]) + np.mean(x_ood[0]))\n",
    "            x_1m = 0.5 * (np.mean(x_t[1]) + np.mean(x_ood[1]))\n",
    "\n",
    "            x_mid = 0.5 * (np.mean(x_t[0]) + np.mean(x_t[1]))\n",
    "            x_diff = (x_1m - x_0m)\n",
    "\n",
    "            h = x_mid + (SIGMA**2 * np.log ( (1 - P) / P)) / x_diff\n",
    "            errs.append(err_h(h))\n",
    "        merr.append((np.mean(errs), np.std(errs)))\n",
    "    all_errs.append(merr)\n",
    "\n",
    "    print(\"Delta=\" + str(delt))\n",
    "    for m in merr:\n",
    "        print(m)                       "
   ]
  },
  {
   "cell_type": "code",
   "execution_count": 20,
   "id": "e2a23c8b",
   "metadata": {},
   "outputs": [],
   "source": [
    "def make_loss_plot(errs, fname):\n",
    "    fig = plt.figure(figsize=(5,3))\n",
    "    color_idx = np.linspace(0, 1, len(dlist))\n",
    "    \n",
    "    for i in range(len(dlist)):\n",
    "        col = plt.cm.RdYlGn_r(color_idx[i])\n",
    "        err = np.array(errs[i])[:, 0]\n",
    "        std = np.array(errs[i])[:, 1]\n",
    "        plt.plot(mnorm, err, color=col)\n",
    "        #plt.scatter(mnorm, err, alpha=0.5, s=5, color=col)\n",
    "        #plt.errorbar(mnorm, std, color=col, capsize=4, capthick=1)\n",
    "        markers, caps, bars = plt.errorbar(mnorm, err, std, color=col,  capsize=3, capthick=1)\n",
    "        [bar.set_alpha(0.2) for bar in bars]\n",
    "\n",
    "    plt.legend([str(d) for d in dlist], title='Delta', bbox_to_anchor = (1.05, 1.0))\n",
    "\n",
    "    plt.xlabel(\"m/n, n=\" + str(nval))\n",
    "    plt.ylabel(\"Avg Risk\")\n",
    "\n",
    "    plt.savefig(img_path + fname, bbox_inches=\"tight\")\n",
    "    plt.show()\n",
    "    "
   ]
  },
  {
   "cell_type": "code",
   "execution_count": 21,
   "id": "8e581fef",
   "metadata": {},
   "outputs": [
    {
     "data": {
      "image/png": "[encoded data removed]",
      "text/plain": [
       "<Figure size 360x216 with 1 Axes>"
      ]
     },
     "metadata": {},
     "output_type": "display_data"
    }
   ],
   "source": [
    "make_loss_plot(all_errs, \"03-rr-multihead_class_priors.pdf\")"
   ]
  },
  {
   "cell_type": "code",
   "execution_count": 33,
   "id": "e10a3d34",
   "metadata": {},
   "outputs": [
    {
     "name": "stdout",
     "output_type": "stream",
     "text": [
      "Mu=0\n",
      "(15.157407760000002, 5.7927436455437755)\n",
      "(19.461675959999997, 16.777710054465004)\n",
      "(17.27808048, 12.661218854509583)\n",
      "(16.391832620000002, 10.158625291348624)\n",
      "(16.117934910000002, 9.572732489099353)\n",
      "Mu=0.1\n",
      "(15.11576985, 5.649849334506893)\n",
      "(17.545295260000003, 14.048982099766642)\n",
      "(15.88538528, 10.251786884285261)\n",
      "(15.31010856, 8.324167978631062)\n",
      "(15.02963056, 7.581156876894982)\n",
      "Mu=0.2\n",
      "(15.046691220000001, 5.26558860632322)\n",
      "(16.7161821, 12.934635285676347)\n",
      "(14.96427304, 8.49804229566923)\n",
      "(14.383318060000002, 6.497469155425197)\n",
      "(14.26217759, 6.179938108855848)\n",
      "Mu=1.0\n",
      "(15.1284546, 5.760326320318566)\n",
      "(12.60737745, 2.998317816539217)\n",
      "(12.233561439999999, 1.4960797195587963)\n",
      "(12.160402289999999, 1.3529178225663805)\n",
      "(12.10760254, 1.2888828889637525)\n",
      "Mu=2.0\n",
      "(15.06542964, 5.351255202088522)\n",
      "(12.84614151, 2.4530388839319115)\n",
      "(12.83038591, 2.4425041451470397)\n",
      "(12.86807853, 2.437149000959531)\n",
      "(12.83053199, 2.4440148901972014)\n",
      "Mu=5.0\n",
      "(15.078284739999999, 5.76016755316728)\n",
      "(14.80004962, 4.302293776746523)\n",
      "(14.75181441, 4.310397582443567)\n",
      "(14.78437206, 4.39646310670991)\n",
      "(14.78650204, 4.324502163906712)\n",
      "Mu=10.0\n",
      "(15.10477183, 5.7222557814938195)\n",
      "(15.87901812, 5.073595856573882)\n",
      "(15.936799420000002, 5.112114558401608)\n",
      "(15.949803350000002, 5.1477397520029875)\n",
      "(15.91563928, 5.1720693854701025)\n"
     ]
    }
   ],
   "source": [
    "nrounds = 10000\n",
    "nval = 10\n",
    "mvals = [0, 5, 10, 15, 20]\n",
    "mnorm = [m / nval for m in mvals]\n",
    "mlist = [0, 0.1, 0.2, 1.0, 2.0, 5.0, 10.0]\n",
    "all_errs = []\n",
    "\n",
    "for mu in mlist:\n",
    "    merr = []\n",
    "\n",
    "    for m in mvals:\n",
    "        errs = []\n",
    "        for it in range(nrounds):\n",
    "            x_t = create_dataset(nval, 0.0, MU)\n",
    "            x_ood = create_dataset(m, 0.0, mu)\n",
    "\n",
    "            x_0m = 0.5 * (np.mean(x_t[0]) + np.mean(x_ood[0]))\n",
    "            x_1m = 0.5 * (np.mean(x_t[1]) + np.mean(x_ood[1]))\n",
    "\n",
    "            x_mid = 0.5 * (np.mean(x_t[0]) + np.mean(x_t[1]))\n",
    "            x_diff = (x_1m - x_0m)\n",
    "\n",
    "            h = x_mid + (SIGMA**2 * np.log ( (1 - P) / P)) / x_diff\n",
    "            errs.append(err_h(h))\n",
    "        merr.append((np.mean(errs), np.std(errs)))\n",
    "    all_errs.append(merr)\n",
    "\n",
    "    print(\"Mu=\" + str(mu))\n",
    "    for m in merr:\n",
    "        print(m)                       "
   ]
  },
  {
   "cell_type": "code",
   "execution_count": 38,
   "id": "88737774",
   "metadata": {},
   "outputs": [],
   "source": [
    "def make_loss_plot_v2(errs, fname):\n",
    "    fig = plt.figure(figsize=(5,3))\n",
    "    color_idx = np.linspace(0, 1, len(mlist))\n",
    "    \n",
    "    for i in range(1, len(mlist)):\n",
    "        col = plt.cm.RdYlGn_r(color_idx[i])\n",
    "        err = np.array(errs[i])[:, 0]\n",
    "        std = np.array(errs[i])[:, 1]\n",
    "        plt.plot(mnorm, err, color=col)\n",
    "        markers, caps, bars = plt.errorbar(mnorm, err, std, color=col,  capsize=3, capthick=1)\n",
    "        [bar.set_alpha(0.2) for bar in bars]\n",
    "\n",
    "    plt.legend([str(d) for d in mlist[1:]], title='Mu', bbox_to_anchor = (1.05, 1.0))\n",
    "\n",
    "    plt.xlabel(\"m/n, n=\" + str(nval))\n",
    "    plt.ylabel(\"Avg Risk\")\n",
    "\n",
    "    plt.savefig(img_path + fname, bbox_inches=\"tight\")\n",
    "    plt.show() "
   ]
  },
  {
   "cell_type": "code",
   "execution_count": 39,
   "id": "6ff2bfde",
   "metadata": {},
   "outputs": [
    {
     "data": {
      "image/png": "[encoded data removed]",
      "text/plain": [
       "<Figure size 360x216 with 1 Axes>"
      ]
     },
     "metadata": {},
     "output_type": "display_data"
    }
   ],
   "source": [
    "make_loss_plot_v2(all_errs, \"03-rr-multihead_class_priors_mu2.pdf\")"
   ]
  },
  {
   "cell_type": "code",
   "execution_count": null,
   "id": "54b5e9df",
   "metadata": {},
   "outputs": [],
   "source": []
  }
 ],
 "metadata": {
  "kernelspec": {
   "display_name": "Python 3.6.10 64-bit ('torch': conda)",
   "language": "python",
   "name": "python361064bittorchconda81ea06b1f2a545b8a1c6a10aaab8eec4"
  },
  "language_info": {
   "codemirror_mode": {
    "name": "ipython",
    "version": 3
   },
   "file_extension": ".py",
   "mimetype": "text/x-python",
   "name": "python",
   "nbconvert_exporter": "python",
   "pygments_lexer": "ipython3",
   "version": "3.6.10"
  }
 },
 "nbformat": 4,
 "nbformat_minor": 5
}
